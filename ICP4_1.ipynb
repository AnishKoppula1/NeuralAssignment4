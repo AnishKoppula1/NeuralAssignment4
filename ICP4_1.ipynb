{
 "cells": [
  {
   "cell_type": "code",
   "execution_count": 1,
   "id": "e3cba0d0",
   "metadata": {},
   "outputs": [],
   "source": [
    "import pandas as pd\n",
    "import matplotlib.pyplot as plt"
   ]
  },
  {
   "cell_type": "code",
   "execution_count": 2,
   "id": "e732c41c",
   "metadata": {},
   "outputs": [
    {
     "name": "stdout",
     "output_type": "stream",
     "text": [
      "   Duration  Pulse  Maxpulse  Calories\n",
      "0        60    110       130     409.1\n",
      "1        60    117       145     479.0\n",
      "2        60    103       135     340.0\n",
      "3        45    109       175     282.4\n",
      "4        45    117       148     406.0\n"
     ]
    }
   ],
   "source": [
    "#a. Read the provided CSV file ‘data.csv’.\n",
    "df = pd.read_csv('C:/Users/koppu/Downloads/data.csv')\n",
    "print(df.head())"
   ]
  },
  {
   "cell_type": "code",
   "execution_count": 3,
   "id": "9275a31b",
   "metadata": {},
   "outputs": [
    {
     "name": "stdout",
     "output_type": "stream",
     "text": [
      "Statistics Data:\n",
      "         Duration       Pulse    Maxpulse     Calories\n",
      "count  169.000000  169.000000  169.000000   164.000000\n",
      "mean    63.846154  107.461538  134.047337   375.790244\n",
      "std     42.299949   14.510259   16.450434   266.379919\n",
      "min     15.000000   80.000000  100.000000    50.300000\n",
      "25%     45.000000  100.000000  124.000000   250.925000\n",
      "50%     60.000000  105.000000  131.000000   318.600000\n",
      "75%     60.000000  111.000000  141.000000   387.600000\n",
      "max    300.000000  159.000000  184.000000  1860.400000\n"
     ]
    }
   ],
   "source": [
    "#c. Show the basic statistical description about the data.\n",
    "print(\"Statistics Data:\")\n",
    "print(df.describe())"
   ]
  },
  {
   "cell_type": "code",
   "execution_count": 4,
   "id": "e7d0f174",
   "metadata": {},
   "outputs": [
    {
     "name": "stdout",
     "output_type": "stream",
     "text": [
      "Checking for null values:\n",
      "Duration    0\n",
      "Pulse       0\n",
      "Maxpulse    0\n",
      "Calories    5\n",
      "dtype: int64\n"
     ]
    }
   ],
   "source": [
    "#d. Check if the data has null values\n",
    "print(\"Checking for null values:\")\n",
    "print(df.isnull().sum())"
   ]
  },
  {
   "cell_type": "code",
   "execution_count": 5,
   "id": "5331d335",
   "metadata": {},
   "outputs": [
    {
     "name": "stdout",
     "output_type": "stream",
     "text": [
      "Duration    0\n",
      "Pulse       0\n",
      "Maxpulse    0\n",
      "Calories    0\n",
      "dtype: int64\n"
     ]
    }
   ],
   "source": [
    "#d) i. Replace the null values with the mean\n",
    "df.fillna(df.mean(), inplace=True)\n",
    "print(df.isnull().sum())"
   ]
  },
  {
   "cell_type": "code",
   "execution_count": 6,
   "id": "56e205d3",
   "metadata": {},
   "outputs": [
    {
     "name": "stdout",
     "output_type": "stream",
     "text": [
      "Aggregated data for Pulse and Calories:\n",
      "            Pulse     Calories\n",
      "min     80.000000    50.300000\n",
      "max    159.000000  1860.400000\n",
      "count  169.000000   169.000000\n",
      "mean   107.461538   375.790244\n"
     ]
    }
   ],
   "source": [
    "#e. Select at least two columns and aggregate the data using: min, max, count, mean.\n",
    "aggregated_data = df[['Pulse', 'Calories']].agg(['min', 'max', 'count', 'mean'])\n",
    "print(\"Aggregated data for Pulse and Calories:\")\n",
    "print(aggregated_data)"
   ]
  },
  {
   "cell_type": "code",
   "execution_count": 7,
   "id": "2aff1502",
   "metadata": {},
   "outputs": [
    {
     "name": "stdout",
     "output_type": "stream",
     "text": [
      "count before filtering :\n",
      "Duration    169\n",
      "Pulse       169\n",
      "Maxpulse    169\n",
      "Calories    169\n",
      "dtype: int64\n",
      "\n",
      "\n",
      "count after filtering :\n",
      "Duration    17\n",
      "Pulse       17\n",
      "Maxpulse    17\n",
      "Calories    17\n",
      "dtype: int64\n"
     ]
    }
   ],
   "source": [
    "#f. Filter the dataframe to select the rows with calories values between 500 and 1000.\n",
    "print(\"count before filtering :\\n\" + str(df.count()) + \"\\n\\n\")\n",
    "data1 = df[(df['Calories'] >= 500) & (df['Calories'] <= 1000)]\n",
    "print(\"count after filtering :\\n\" + str(data1.count()))"
   ]
  },
  {
   "cell_type": "code",
   "execution_count": 8,
   "id": "9e7558ee",
   "metadata": {},
   "outputs": [
    {
     "name": "stdout",
     "output_type": "stream",
     "text": [
      "count before filtering :\n",
      "Duration    169\n",
      "Pulse       169\n",
      "Maxpulse    169\n",
      "Calories    169\n",
      "dtype: int64\n",
      "\n",
      "\n",
      "count after filtering :\n",
      "Duration    8\n",
      "Pulse       8\n",
      "Maxpulse    8\n",
      "Calories    8\n",
      "dtype: int64\n"
     ]
    }
   ],
   "source": [
    "#g. Filter the dataframe to select the rows with calories values > 500 and pulse < 100.\n",
    "print(\"count before filtering :\\n\" + str(df.count()) + \"\\n\\n\")\n",
    "data2 = df[(df['Calories'] > 500) & (df['Pulse'] < 100)]\n",
    "print(\"count after filtering :\\n\" + str(data2.count()))"
   ]
  },
  {
   "cell_type": "code",
   "execution_count": 9,
   "id": "a937774d",
   "metadata": {},
   "outputs": [
    {
     "name": "stdout",
     "output_type": "stream",
     "text": [
      "   Duration  Pulse  Calories\n",
      "0        60    110     409.1\n",
      "1        60    117     479.0\n",
      "2        60    103     340.0\n",
      "3        45    109     282.4\n",
      "4        45    117     406.0\n"
     ]
    }
   ],
   "source": [
    "#h. Create a new “df_modified” dataframe that contains all the columns from df except for “Maxpulse”.\n",
    "df_modified = df.drop(columns=['Maxpulse'])\n",
    "print(df_modified.head())"
   ]
  },
  {
   "cell_type": "code",
   "execution_count": 10,
   "id": "590ee5e6",
   "metadata": {},
   "outputs": [
    {
     "name": "stdout",
     "output_type": "stream",
     "text": [
      "   Duration  Pulse  Calories\n",
      "0        60    110     409.1\n",
      "1        60    117     479.0\n",
      "2        60    103     340.0\n",
      "3        45    109     282.4\n",
      "4        45    117     406.0\n"
     ]
    }
   ],
   "source": [
    "#i. Delete the “Maxpulse” column from the main df dataframe\n",
    "df.drop(columns=['Maxpulse'], inplace=True)\n",
    "print(df.head())"
   ]
  },
  {
   "cell_type": "code",
   "execution_count": 11,
   "id": "a2905e7e",
   "metadata": {},
   "outputs": [
    {
     "data": {
      "text/plain": [
       "dtype('int32')"
      ]
     },
     "execution_count": 11,
     "metadata": {},
     "output_type": "execute_result"
    }
   ],
   "source": [
    "#j. Convert the datatype of Calories column to int datatype.\n",
    "df['Calories'] = df['Calories'].astype(int)\n",
    "df.dtypes['Calories']"
   ]
  },
  {
   "cell_type": "code",
   "execution_count": 27,
   "id": "9a3240ec",
   "metadata": {},
   "outputs": [
    {
     "data": {
      "image/png": "[encoded data removed]",
      "text/plain": [
       "<Figure size 640x480 with 1 Axes>"
      ]
     },
     "metadata": {},
     "output_type": "display_data"
    }
   ],
   "source": [
    "#k. Using pandas create a scatter plot for the two columns (Duration and Calories).\n",
    "plt.scatter(df['Duration'], df['Calories'])\n",
    "plt.xlabel('Duration')\n",
    "plt.ylabel('Calories')\n",
    "plt.show()"
   ]
  },
  {
   "cell_type": "code",
   "execution_count": null,
   "id": "f8f653c6",
   "metadata": {},
   "outputs": [],
   "source": []
  }
 ],
 "metadata": {
  "kernelspec": {
   "display_name": "Python 3 (ipykernel)",
   "language": "python",
   "name": "python3"
  },
  "language_info": {
   "codemirror_mode": {
    "name": "ipython",
    "version": 3
   },
   "file_extension": ".py",
   "mimetype": "text/x-python",
   "name": "python",
   "nbconvert_exporter": "python",
   "pygments_lexer": "ipython3",
   "version": "3.11.4"
  }
 },
 "nbformat": 4,
 "nbformat_minor": 5
}
